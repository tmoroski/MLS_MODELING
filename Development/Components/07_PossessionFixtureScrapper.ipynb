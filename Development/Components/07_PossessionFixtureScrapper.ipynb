{
 "cells": [
  {
   "cell_type": "markdown",
   "id": "e0e46c91-90d2-4b78-8a86-c8e568d5bdb4",
   "metadata": {},
   "source": [
    "# Possession Fixture Scrapper"
   ]
  },
  {
   "cell_type": "code",
   "execution_count": 4,
   "id": "379b98ff-7c92-478b-bbb7-00eb44e20124",
   "metadata": {},
   "outputs": [],
   "source": [
    "# %run ../Components/00_ProjectImports.ipynb\n",
    "# %run ../Components/01_UserAgentInformation.ipynb\n",
    "# %run ../Components/02_TeamAbreviations.ipynb"
   ]
  },
  {
   "cell_type": "code",
   "execution_count": 25,
   "id": "3390b1df-4336-408b-aa20-fbeac306b890",
   "metadata": {},
   "outputs": [],
   "source": [
    "def possessionBoxScoreScraper(teamLink1,year,teamLink3,teamName):  \n",
    "    '''\n",
    "    INPUTS\n",
    "    teamLink1 - (string input) 1st piece of the required url string\n",
    "    teamLink3 - (string input) 3rd piece of the required url string\n",
    "    year - (string input) This is a four character parameter yyyy\n",
    "    ----------------------------------------------------------------\n",
    "    OUTPUT\n",
    "    df - this data frame contains advanced box score game logs\n",
    "    '''\n",
    "   #Creating our url string to go fetch website data\n",
    "    url = teamLink1+year+possession+teamLink3\n",
    "    data = pd.read_html(url)\n",
    "    df = data[0]\n",
    "    df.columns = df.columns.droplevel(0)\n",
    "    column_names = list(df.columns)\n",
    "    column_names[0] = \"Date\"  \n",
    "    column_names[1] = \"Time\"  \n",
    "    column_names[2] = 'Comp'\n",
    "    column_names[3] ='Round'\n",
    "    column_names[4] ='Day'\n",
    "    column_names[5] ='Venue'\n",
    "    column_names[6] ='Result'\n",
    "    column_names[7] ='GF'\n",
    "    column_names[8] ='GA'\n",
    "    column_names[9] ='Opponent' #########\n",
    "    column_names[10] ='Possessions'\n",
    "    column_names[11] ='Touches'\n",
    "    column_names[12] ='Def Pen'\n",
    "    column_names[13] ='Def 3rd'\n",
    "    column_names[14] ='Mid 3rd'\n",
    "    column_names[15] ='Att 3rd'\n",
    "    column_names[16] ='Att Pen'\n",
    "    column_names[17] ='Live'\n",
    "    column_names[18] ='Take On Attempts'\n",
    "    column_names[19] ='Successful Take On Attempts'\n",
    "    column_names[20] ='Take On Suc%'\n",
    "    column_names[21] ='Take On Tkld'\n",
    "    column_names[22] ='Take On Tkld%'\n",
    "    column_names[23] ='Carries'\n",
    "    column_names[24] ='TotDist'\n",
    "    column_names[25] ='PrgDist'\n",
    "    column_names[26] ='PrgC'\n",
    "    column_names[27] ='Third'\n",
    "    column_names[28] ='CPA'\n",
    "    column_names[29] ='MIS'\n",
    "    column_names[30] ='Dis'\n",
    "    column_names[31] ='Rec'\n",
    "    column_names[32] ='PrgR'\n",
    "    column_names[33] ='Match Report'\n",
    "    df.columns = column_names\n",
    "    df['Team'] = str(teamName)\n",
    "    df = df[df['Opponent'].notnull()]\n",
    "    return df\n",
    "   "
   ]
  },
  {
   "cell_type": "code",
   "execution_count": 35,
   "id": "e97a1adc-208b-4cef-9dd8-cc4e3d3ee9db",
   "metadata": {},
   "outputs": [],
   "source": [
    "#test = possessionBoxScoreScraper(philadelphia1,'2025',philadelphia2)"
   ]
  },
  {
   "cell_type": "code",
   "execution_count": 33,
   "id": "4699581e-0b2f-4fc6-ad3c-582bff99178f",
   "metadata": {},
   "outputs": [],
   "source": [
    "#test.columns"
   ]
  },
  {
   "cell_type": "code",
   "execution_count": 31,
   "id": "09c0ecee-5ba9-406a-9f8d-27c976ab8b78",
   "metadata": {},
   "outputs": [],
   "source": [
    "#test"
   ]
  }
 ],
 "metadata": {
  "kernelspec": {
   "display_name": "Python [conda env:base] *",
   "language": "python",
   "name": "conda-base-py"
  },
  "language_info": {
   "codemirror_mode": {
    "name": "ipython",
    "version": 3
   },
   "file_extension": ".py",
   "mimetype": "text/x-python",
   "name": "python",
   "nbconvert_exporter": "python",
   "pygments_lexer": "ipython3",
   "version": "3.12.7"
  }
 },
 "nbformat": 4,
 "nbformat_minor": 5
}
