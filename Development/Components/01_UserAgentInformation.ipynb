{
 "cells": [
  {
   "cell_type": "markdown",
   "id": "0f6107d5-85a0-4083-9167-5357ad9c374a",
   "metadata": {},
   "source": [
    "# User Agent Information"
   ]
  },
  {
   "cell_type": "code",
   "execution_count": null,
   "id": "62a8a8b3-34fd-4f11-ab60-38b8667681db",
   "metadata": {},
   "outputs": [],
   "source": [
    "software_names = [SoftwareName.FIREFOX.value]\n",
    "operating_systems = [OperatingSystem.MAC.value, OperatingSystem.MAC.value]\n",
    "user_agent_rotator = UserAgent(software_names=software_names, operating_systems=operating_systems, limit=30)\n",
    "user_agent = user_agent_rotator.get_random_user_agent()"
   ]
  }
 ],
 "metadata": {
  "kernelspec": {
   "display_name": "Python [conda env:base] *",
   "language": "python",
   "name": "conda-base-py"
  },
  "language_info": {
   "codemirror_mode": {
    "name": "ipython",
    "version": 3
   },
   "file_extension": ".py",
   "mimetype": "text/x-python",
   "name": "python",
   "nbconvert_exporter": "python",
   "pygments_lexer": "ipython3",
   "version": "3.12.7"
  }
 },
 "nbformat": 4,
 "nbformat_minor": 5
}
