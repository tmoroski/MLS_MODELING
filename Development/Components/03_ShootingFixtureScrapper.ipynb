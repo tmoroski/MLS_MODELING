{
 "cells": [
  {
   "cell_type": "markdown",
   "id": "e0e46c91-90d2-4b78-8a86-c8e568d5bdb4",
   "metadata": {},
   "source": [
    "# Shooting Fixture Scrapper"
   ]
  },
  {
   "cell_type": "code",
   "execution_count": 8,
   "id": "379b98ff-7c92-478b-bbb7-00eb44e20124",
   "metadata": {},
   "outputs": [],
   "source": [
    "# %run ../Components/00_ProjectImports.ipynb\n",
    "# %run ../Components/01_UserAgentInformation.ipynb\n",
    "# %run ../Components/02_TeamAbreviations.ipynb"
   ]
  },
  {
   "cell_type": "code",
   "execution_count": 48,
   "id": "3390b1df-4336-408b-aa20-fbeac306b890",
   "metadata": {},
   "outputs": [],
   "source": [
    "def shootingBoxScoreScraper(teamLink1,year,teamLink3,teamName):  \n",
    "    '''\n",
    "    INPUTS\n",
    "    teamLink1 - (string input) 1st piece of the required url string\n",
    "    teamLink2 - (string input) 2nd piece of the required url string\n",
    "    teamLink3 - (string input) 3rd piece of the required url string\n",
    "    year - (string input) This is a four character parameter yyyy\n",
    "    ----------------------------------------------------------------\n",
    "    OUTPUT\n",
    "    df - this data frame contains advanced box score game logs\n",
    "    '''\n",
    "   #Creating our url string to go fetch website data\n",
    "    url = teamLink1+year+shooting+teamLink3\n",
    "    data = pd.read_html(url)\n",
    "    df = data[0]\n",
    "    df.columns = df.columns.droplevel(0)\n",
    "    column_names = list(df.columns)\n",
    "    column_names[0] = \"Date\"  \n",
    "    column_names[1] = \"Time\"  \n",
    "    column_names[2] = 'Comp'\n",
    "    column_names[3] ='Round'\n",
    "    column_names[4] ='Day'\n",
    "    column_names[5] ='Venue'\n",
    "    column_names[6] ='Result'\n",
    "    column_names[7] ='GF'\n",
    "    column_names[8] ='GA'\n",
    "    column_names[9] ='Opponent' #########\n",
    "    column_names[10] ='Goals'\n",
    "    column_names[11] ='Shots'\n",
    "    column_names[12] ='Shots on Target'\n",
    "    column_names[13] ='SoT%'\n",
    "    column_names[14] ='G/Sh'\n",
    "    column_names[15] ='G/SoT'\n",
    "    column_names[16] ='Dist'\n",
    "    column_names[17] ='FK'\n",
    "    column_names[18] ='PK'\n",
    "    column_names[19] ='PKatt'\n",
    "    column_names[20] ='xG'\n",
    "    column_names[21] ='npxG'\n",
    "    column_names[22] ='npxG'\n",
    "    column_names[23] ='G-xG'\n",
    "    column_names[24] ='np:G-xG'\n",
    "    column_names[25] ='Match Report'\n",
    "   \n",
    "    df.columns = column_names\n",
    "    df['Team'] = str(teamName)\n",
    "    df = df[df['Opponent'].notnull()]\n",
    "    return df\n",
    "    \n",
    " "
   ]
  },
  {
   "cell_type": "code",
   "execution_count": 50,
   "id": "66ab3c12-45d8-4ff2-8720-3710f154faf2",
   "metadata": {},
   "outputs": [],
   "source": [
    "#test = shootingBoxScoreScraper(philadelphia1,'2025',philadelphia2)"
   ]
  },
  {
   "cell_type": "code",
   "execution_count": 54,
   "id": "1bb76d95-ce6d-47b3-bef6-ab29e02015d4",
   "metadata": {},
   "outputs": [],
   "source": [
    "#test"
   ]
  },
  {
   "cell_type": "code",
   "execution_count": null,
   "id": "6e78edf1-285f-4c0c-839c-b89d372a6bac",
   "metadata": {},
   "outputs": [],
   "source": []
  }
 ],
 "metadata": {
  "kernelspec": {
   "display_name": "Python [conda env:base] *",
   "language": "python",
   "name": "conda-base-py"
  },
  "language_info": {
   "codemirror_mode": {
    "name": "ipython",
    "version": 3
   },
   "file_extension": ".py",
   "mimetype": "text/x-python",
   "name": "python",
   "nbconvert_exporter": "python",
   "pygments_lexer": "ipython3",
   "version": "3.12.7"
  }
 },
 "nbformat": 4,
 "nbformat_minor": 5
}
