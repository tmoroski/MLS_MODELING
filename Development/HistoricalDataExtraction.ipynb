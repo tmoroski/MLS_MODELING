{
 "cells": [
  {
   "cell_type": "markdown",
   "id": "5361797b-1ed5-4a2a-830f-9e3823193c79",
   "metadata": {},
   "source": [
    "# Historical Data ETL"
   ]
  },
  {
   "cell_type": "code",
   "execution_count": 23,
   "id": "6ec1c895-80da-4784-95ac-4570cdfa77d8",
   "metadata": {},
   "outputs": [],
   "source": [
    "%run ./Components/00_ProjectImports.ipynb\n",
    "%run ./Components/01_UserAgentInformation.ipynb\n",
    "%run ./Components/02_TeamAbreviations.ipynb\n",
    "%run ./Components/03_ShootingFixtureScrapper.ipynb\n",
    "%run ./Components/04_PassingFixtureScrapper.ipynb\n",
    "%run ./Components/05_GoalandShotCreationScrapper.ipynb\n",
    "%run ./Components/06_DefensiveActions.ipynb\n",
    "%run ./Components/07_PossessionFixtureScrapper.ipynb"
   ]
  },
  {
   "cell_type": "code",
   "execution_count": 25,
   "id": "60154cfe-a4e5-4997-b003-c7d480f0886c",
   "metadata": {},
   "outputs": [],
   "source": [
    "years = ['2025','2024','2023','2022','2021','2020']\n",
    "#years = ['2025','2024']"
   ]
  },
  {
   "cell_type": "code",
   "execution_count": 27,
   "id": "9b6c5c6b-ba85-4461-8916-2a1318724af7",
   "metadata": {},
   "outputs": [],
   "source": [
    "shootingFrame = pd.DataFrame()\n",
    "passingFrame = pd.DataFrame()\n",
    "goalshotFrame = pd.DataFrame()\n",
    "defensiveFrame = pd.DataFrame()\n",
    "possessionFrame = pd.DataFrame()"
   ]
  },
  {
   "cell_type": "code",
   "execution_count": 29,
   "id": "f61f33cb-119e-4017-8120-d3bea66f944e",
   "metadata": {},
   "outputs": [],
   "source": [
    "link1List = [\n",
    "            philadelphia1\n",
    "            ,miami1\n",
    "            ,columbus1\n",
    "            ,cincinnati1\n",
    "            ,washington1\n",
    "            ,charlotte1\n",
    "            ,chicago1\n",
    "            ,newyorkrb1\n",
    "            ,newyorkfc1\n",
    "            ,atlanta1\n",
    "            ,nashville1\n",
    "            ,orlando1\n",
    "            ,newengland1\n",
    "            ,toronto1\n",
    "            ,montreal1\n",
    "            ,vancouver1\n",
    "            ,sandiego1\n",
    "            ,sanjose1\n",
    "            ,minnesota1\n",
    "            ,losangelesfc1\n",
    "            ,stlouis1\n",
    "            ,colorado1\n",
    "            ,seattle1\n",
    "            ,dallas1\n",
    "            ,austin1\n",
    "            ,saltlake1\n",
    "            ,portland1\n",
    "            ,houston1\n",
    "            ,kansascity1\n",
    "            ,losangelesga1\n",
    "\n",
    "]"
   ]
  },
  {
   "cell_type": "code",
   "execution_count": 31,
   "id": "e3a3fa30-73f0-48fd-b20e-eca27b4e4257",
   "metadata": {},
   "outputs": [],
   "source": [
    "link2List = [\n",
    "            philadelphia2\n",
    "            ,miami2\n",
    "            ,columbus2\n",
    "            ,cincinnati2\n",
    "            ,washington2\n",
    "            ,charlotte2\n",
    "            ,chicago2\n",
    "            ,newyorkrb2\n",
    "            ,newyorkfc2\n",
    "            ,atlanta2\n",
    "            ,nashville2\n",
    "            ,orlando2\n",
    "            ,newengland2\n",
    "            ,toronto2\n",
    "            ,montreal2\n",
    "            ,vancouver2\n",
    "            ,sandiego2\n",
    "            ,sanjose2\n",
    "            ,minnesota2\n",
    "            ,losangelesfc2\n",
    "            ,stlouis2\n",
    "            ,colorado2\n",
    "            ,seattle2\n",
    "            ,dallas2\n",
    "            ,austin2\n",
    "            ,saltlake2\n",
    "            ,portland2\n",
    "            ,houston2\n",
    "            ,kansascity2\n",
    "            ,losangelesga2\n",
    "\n",
    "]"
   ]
  },
  {
   "cell_type": "code",
   "execution_count": 33,
   "id": "04b0cf38-dcab-420e-9cf3-8189981a3918",
   "metadata": {},
   "outputs": [],
   "source": [
    "link3List = [\n",
    "            philadelphia3\n",
    "            ,miami3\n",
    "            ,columbus3\n",
    "            ,cincinnati3\n",
    "            ,washington3\n",
    "            ,charlotte3\n",
    "            ,chicago3\n",
    "            ,newyorkrb3\n",
    "            ,newyorkfc3\n",
    "            ,atlanta3\n",
    "            ,nashville3\n",
    "            ,orlando3\n",
    "            ,newengland3\n",
    "            ,toronto3\n",
    "            ,montreal3\n",
    "            ,vancouver3\n",
    "            ,sandiego3\n",
    "            ,sanjose3\n",
    "            ,minnesota3\n",
    "            ,losangelesfc3\n",
    "            ,stlouis3\n",
    "            ,colorado3\n",
    "            ,seattle3\n",
    "            ,dallas3\n",
    "            ,austin3\n",
    "            ,saltlake3\n",
    "            ,portland3\n",
    "            ,houston3\n",
    "            ,kansascity3\n",
    "            ,losangelesga3\n",
    "\n",
    "]"
   ]
  },
  {
   "cell_type": "code",
   "execution_count": 35,
   "id": "203c6bc4-8e4b-47e0-819a-bb7ba5bd0dc8",
   "metadata": {},
   "outputs": [
    {
     "name": "stderr",
     "output_type": "stream",
     "text": [
      "100%|██████████| 6/6 [53:49<00:00, 538.23s/it]   \n"
     ]
    }
   ],
   "source": [
    "for year in tqdm(years):\n",
    "    try:\n",
    "        for link1,link2,link3 in zip(link1List,link2List,link3List):\n",
    "            passingFrameTemp = passingBoxScoreScraper(link1,year,link2,link3)\n",
    "            time.sleep(7)\n",
    "            shootingFrameTemp = shootingBoxScoreScraper(link1,year,link2,link3)\n",
    "            time.sleep(7)\n",
    "            goalshotFrameTemp = goalAndShotCreationBoxScoreScraper(link1,year,link2,link3)\n",
    "            time.sleep(7)\n",
    "            defensiveFrameTemp = defensiveActionsBoxScoreScraper(link1,year,link2,link3)\n",
    "            time.sleep(7)\n",
    "            possessionFrameTemp = possessionBoxScoreScraper(link1,year,link2,link3)\n",
    "            time.sleep(7)\n",
    "            \n",
    "            passingFrame = pd.concat([passingFrame, passingFrameTemp])\n",
    "            shootingFrame = pd.concat([shootingFrame, shootingFrameTemp])\n",
    "            goalshotFrame = pd.concat([goalshotFrame, goalshotFrameTemp])\n",
    "            defensiveFrame = pd.concat([defensiveFrame, defensiveFrameTemp])\n",
    "            possessionFrame = pd.concat([possessionFrame, possessionFrameTemp])\n",
    "    except: pass"
   ]
  },
  {
   "cell_type": "code",
   "execution_count": 40,
   "id": "ca39b3fb-0a62-48e4-99a9-b2b5e65fa1db",
   "metadata": {},
   "outputs": [],
   "source": [
    "passingFrame.to_excel(\"./DataFiles/passingGamelogs.xlsx\")"
   ]
  },
  {
   "cell_type": "code",
   "execution_count": 42,
   "id": "bf4d4576-27f5-417c-9b6f-92b2161e277c",
   "metadata": {},
   "outputs": [],
   "source": [
    "shootingFrame.to_excel(\"./DataFiles/shootingGamelogs.xlsx\")"
   ]
  },
  {
   "cell_type": "code",
   "execution_count": 44,
   "id": "c5582399-3ad0-45e0-8fc1-a73cba56c58b",
   "metadata": {},
   "outputs": [],
   "source": [
    "goalshotFrame.to_excel(\"./DataFiles/goalGamelogs.xlsx\")"
   ]
  },
  {
   "cell_type": "code",
   "execution_count": 46,
   "id": "7455d46c-a0ff-48a3-aa2d-d5d7ab650273",
   "metadata": {},
   "outputs": [],
   "source": [
    "defensiveFrame.to_excel(\"./DataFiles/defensiveGamelogs.xlsx\")"
   ]
  },
  {
   "cell_type": "code",
   "execution_count": 48,
   "id": "d89f4910-856e-437e-8b2e-a2407c515f63",
   "metadata": {},
   "outputs": [],
   "source": [
    "possessionFrame.to_excel(\"./DataFiles/possessionGamelogs.xlsx\")"
   ]
  },
  {
   "cell_type": "markdown",
   "id": "f23d83b4-6476-4ce0-b324-0a56dbd314b7",
   "metadata": {},
   "source": [
    "## Archive Code"
   ]
  },
  {
   "cell_type": "code",
   "execution_count": 30,
   "id": "bcd5b86b-b684-42d8-afe6-04a97874c22d",
   "metadata": {},
   "outputs": [],
   "source": [
    "# for year in years:\n",
    "#     passingFrameTemp = passingBoxScoreScraper(philadelphia1,year,philadelphia2)\n",
    "#     time.sleep(3)\n",
    "#     shootingFrameTemp = shootingBoxScoreScraper(philadelphia1,year,philadelphia2)\n",
    "#     time.sleep(3)\n",
    "#     goalshotFrameTemp = goalAndShotCreationBoxScoreScraper(philadelphia1,year,philadelphia2)\n",
    "#     time.sleep(3)\n",
    "#     defensiveFrameTemp = defensiveActionsBoxScoreScraper(philadelphia1,year,philadelphia2)\n",
    "#     time.sleep(3)\n",
    "#     possessionFrameTemp = possessionBoxScoreScraper(philadelphia1,year,philadelphia2)\n",
    "#     time.sleep(3)\n",
    "    \n",
    "#     passingFrame = pd.concat([passingFrame, passingFrameTemp])\n",
    "#     shootingFrame = pd.concat([shootingFrame, shootingFrameTemp])\n",
    "#     goalshotFrame = pd.concat([goalshotFrame, goalshotFrameTemp])\n",
    "#     defensiveFrame = pd.concat([defensiveFrame, defensiveFrameTemp])\n",
    "#     possessionFrame = pd.concat([possessionFrame, possessionFrameTemp])\n",
    "\n"
   ]
  }
 ],
 "metadata": {
  "kernelspec": {
   "display_name": "Python [conda env:base] *",
   "language": "python",
   "name": "conda-base-py"
  },
  "language_info": {
   "codemirror_mode": {
    "name": "ipython",
    "version": 3
   },
   "file_extension": ".py",
   "mimetype": "text/x-python",
   "name": "python",
   "nbconvert_exporter": "python",
   "pygments_lexer": "ipython3",
   "version": "3.12.7"
  }
 },
 "nbformat": 4,
 "nbformat_minor": 5
}
